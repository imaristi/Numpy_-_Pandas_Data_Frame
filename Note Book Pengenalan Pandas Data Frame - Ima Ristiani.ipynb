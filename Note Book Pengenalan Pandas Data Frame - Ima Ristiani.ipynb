{
  "nbformat": 4,
  "nbformat_minor": 0,
  "metadata": {
    "colab": {
      "name": "Pengenalan_Pandas_DataFrame.ipynb",
      "provenance": [],
      "collapsed_sections": []
    },
    "kernelspec": {
      "name": "python3",
      "display_name": "Python 3"
    },
    "language_info": {
      "name": "python"
    }
  },
  "cells": [
    {
      "cell_type": "markdown",
      "metadata": {
        "id": "PzSuDzuF0W1w"
      },
      "source": [
        "**NAMA : IMA RISTIANI**\n",
        "\n",
        "**NIM : 2000015027**\n",
        "\n",
        "**PRODI : MATEMATIKA**"
      ]
    },
    {
      "cell_type": "markdown",
      "metadata": {
        "id": "nadomyEEBiAC"
      },
      "source": [
        "# Pandas DataFrame"
      ]
    },
    {
      "cell_type": "markdown",
      "metadata": {
        "id": "51OJa57Zkk5y"
      },
      "source": [
        "Pandas adalah Library analisis data yang memiliki struktur data yang diperlukan untuk membersihkan data mentah ke dalam sebuah bentuk yang cocok untuk analisis (yaitu tabel). Pandas melakukan tugas penting seperti menyelaraskan data untuk perbandingan dan penggabungan set data, penanganan data yang hilang, dll"
      ]
    },
    {
      "cell_type": "markdown",
      "metadata": {
        "id": "_C-LtbIBkqFm"
      },
      "source": [
        "## Import Modul"
      ]
    },
    {
      "cell_type": "code",
      "metadata": {
        "id": "5QyDMeuqFmnG"
      },
      "source": [
        "import pandas as pd"
      ],
      "execution_count": 1,
      "outputs": []
    },
    {
      "cell_type": "markdown",
      "metadata": {
        "id": "gkhh7OT9ky3W"
      },
      "source": [
        "## Membuat DataFrame\n",
        "**Membuat Matriks Menggunakan List**\n",
        "\n",
        "\n"
      ]
    },
    {
      "cell_type": "code",
      "metadata": {
        "id": "mkM32MMu2G-Y",
        "colab": {
          "base_uri": "https://localhost:8080/",
          "height": 266
        },
        "outputId": "6e1b72fe-ee75-4a85-f780-4032ce595a84"
      },
      "source": [
        "# List\n",
        "list_buah = ['Jeruk', 'Pepaya', 'Mangga', 'Rambutan', 'Leci', 'Nanas', 'Manggis']\n",
        "  \n",
        "# Membuat DataFrame menggunakan list_buah\n",
        "df = pd.DataFrame(list_buah)\n",
        "df"
      ],
      "execution_count": 2,
      "outputs": [
        {
          "output_type": "execute_result",
          "data": {
            "text/html": [
              "<div>\n",
              "<style scoped>\n",
              "    .dataframe tbody tr th:only-of-type {\n",
              "        vertical-align: middle;\n",
              "    }\n",
              "\n",
              "    .dataframe tbody tr th {\n",
              "        vertical-align: top;\n",
              "    }\n",
              "\n",
              "    .dataframe thead th {\n",
              "        text-align: right;\n",
              "    }\n",
              "</style>\n",
              "<table border=\"1\" class=\"dataframe\">\n",
              "  <thead>\n",
              "    <tr style=\"text-align: right;\">\n",
              "      <th></th>\n",
              "      <th>0</th>\n",
              "    </tr>\n",
              "  </thead>\n",
              "  <tbody>\n",
              "    <tr>\n",
              "      <th>0</th>\n",
              "      <td>Jeruk</td>\n",
              "    </tr>\n",
              "    <tr>\n",
              "      <th>1</th>\n",
              "      <td>Pepaya</td>\n",
              "    </tr>\n",
              "    <tr>\n",
              "      <th>2</th>\n",
              "      <td>Mangga</td>\n",
              "    </tr>\n",
              "    <tr>\n",
              "      <th>3</th>\n",
              "      <td>Rambutan</td>\n",
              "    </tr>\n",
              "    <tr>\n",
              "      <th>4</th>\n",
              "      <td>Leci</td>\n",
              "    </tr>\n",
              "    <tr>\n",
              "      <th>5</th>\n",
              "      <td>Nanas</td>\n",
              "    </tr>\n",
              "    <tr>\n",
              "      <th>6</th>\n",
              "      <td>Manggis</td>\n",
              "    </tr>\n",
              "  </tbody>\n",
              "</table>\n",
              "</div>"
            ],
            "text/plain": [
              "          0\n",
              "0     Jeruk\n",
              "1    Pepaya\n",
              "2    Mangga\n",
              "3  Rambutan\n",
              "4      Leci\n",
              "5     Nanas\n",
              "6   Manggis"
            ]
          },
          "metadata": {},
          "execution_count": 2
        }
      ]
    },
    {
      "cell_type": "markdown",
      "metadata": {
        "id": "eECfBPB13hPb"
      },
      "source": [
        "**Membuat Data Frame Menggunakan List dan Fungsi Zip**"
      ]
    },
    {
      "cell_type": "code",
      "metadata": {
        "id": "ABg7nMlW2N79",
        "colab": {
          "base_uri": "https://localhost:8080/",
          "height": 266
        },
        "outputId": "fee5c383-05df-48b7-d373-a960cf23eede"
      },
      "source": [
        "# List Buah (string)\n",
        "list_buah = ['Jeruk', 'Pepaya', 'Mangga', 'Rambutan', 'Leci', 'Nanas', 'Manggis']\n",
        "  \n",
        "# List Berat Buah (Integer)\n",
        "list_berat = [50, 800, 150, 10, 2, 300, 70]\n",
        "  \n",
        "# Membuat dataframe menggunakan Dua Buah List dengan Fungsi Zip\n",
        "df = pd.DataFrame(list(zip(list_buah, list_berat)),\n",
        "               columns =['Nama Buah', 'Berat Buah'])\n",
        "df"
      ],
      "execution_count": 3,
      "outputs": [
        {
          "output_type": "execute_result",
          "data": {
            "text/html": [
              "<div>\n",
              "<style scoped>\n",
              "    .dataframe tbody tr th:only-of-type {\n",
              "        vertical-align: middle;\n",
              "    }\n",
              "\n",
              "    .dataframe tbody tr th {\n",
              "        vertical-align: top;\n",
              "    }\n",
              "\n",
              "    .dataframe thead th {\n",
              "        text-align: right;\n",
              "    }\n",
              "</style>\n",
              "<table border=\"1\" class=\"dataframe\">\n",
              "  <thead>\n",
              "    <tr style=\"text-align: right;\">\n",
              "      <th></th>\n",
              "      <th>Nama Buah</th>\n",
              "      <th>Berat Buah</th>\n",
              "    </tr>\n",
              "  </thead>\n",
              "  <tbody>\n",
              "    <tr>\n",
              "      <th>0</th>\n",
              "      <td>Jeruk</td>\n",
              "      <td>50</td>\n",
              "    </tr>\n",
              "    <tr>\n",
              "      <th>1</th>\n",
              "      <td>Pepaya</td>\n",
              "      <td>800</td>\n",
              "    </tr>\n",
              "    <tr>\n",
              "      <th>2</th>\n",
              "      <td>Mangga</td>\n",
              "      <td>150</td>\n",
              "    </tr>\n",
              "    <tr>\n",
              "      <th>3</th>\n",
              "      <td>Rambutan</td>\n",
              "      <td>10</td>\n",
              "    </tr>\n",
              "    <tr>\n",
              "      <th>4</th>\n",
              "      <td>Leci</td>\n",
              "      <td>2</td>\n",
              "    </tr>\n",
              "    <tr>\n",
              "      <th>5</th>\n",
              "      <td>Nanas</td>\n",
              "      <td>300</td>\n",
              "    </tr>\n",
              "    <tr>\n",
              "      <th>6</th>\n",
              "      <td>Manggis</td>\n",
              "      <td>70</td>\n",
              "    </tr>\n",
              "  </tbody>\n",
              "</table>\n",
              "</div>"
            ],
            "text/plain": [
              "  Nama Buah  Berat Buah\n",
              "0     Jeruk          50\n",
              "1    Pepaya         800\n",
              "2    Mangga         150\n",
              "3  Rambutan          10\n",
              "4      Leci           2\n",
              "5     Nanas         300\n",
              "6   Manggis          70"
            ]
          },
          "metadata": {},
          "execution_count": 3
        }
      ]
    },
    {
      "cell_type": "markdown",
      "metadata": {
        "id": "6OJan3y64HqR"
      },
      "source": [
        "**Membuat DataFrame Menggunakan List Multidimensi**"
      ]
    },
    {
      "cell_type": "code",
      "metadata": {
        "id": "Tj__SnnO2Smy",
        "colab": {
          "base_uri": "https://localhost:8080/",
          "height": 173
        },
        "outputId": "fec2f196-4d73-49ff-d3a3-6c5768f69d72"
      },
      "source": [
        "# List Multidimensi (Nama, Usia) \n",
        "lst = [['Bejo', 25], ['Ari', 30],\n",
        "       ['Asep', 26], ['Richard', 22]]\n",
        "    \n",
        "df = pd.DataFrame(lst, columns =['Nama', 'Usia'])\n",
        "df"
      ],
      "execution_count": 4,
      "outputs": [
        {
          "output_type": "execute_result",
          "data": {
            "text/html": [
              "<div>\n",
              "<style scoped>\n",
              "    .dataframe tbody tr th:only-of-type {\n",
              "        vertical-align: middle;\n",
              "    }\n",
              "\n",
              "    .dataframe tbody tr th {\n",
              "        vertical-align: top;\n",
              "    }\n",
              "\n",
              "    .dataframe thead th {\n",
              "        text-align: right;\n",
              "    }\n",
              "</style>\n",
              "<table border=\"1\" class=\"dataframe\">\n",
              "  <thead>\n",
              "    <tr style=\"text-align: right;\">\n",
              "      <th></th>\n",
              "      <th>Nama</th>\n",
              "      <th>Usia</th>\n",
              "    </tr>\n",
              "  </thead>\n",
              "  <tbody>\n",
              "    <tr>\n",
              "      <th>0</th>\n",
              "      <td>Bejo</td>\n",
              "      <td>25</td>\n",
              "    </tr>\n",
              "    <tr>\n",
              "      <th>1</th>\n",
              "      <td>Ari</td>\n",
              "      <td>30</td>\n",
              "    </tr>\n",
              "    <tr>\n",
              "      <th>2</th>\n",
              "      <td>Asep</td>\n",
              "      <td>26</td>\n",
              "    </tr>\n",
              "    <tr>\n",
              "      <th>3</th>\n",
              "      <td>Richard</td>\n",
              "      <td>22</td>\n",
              "    </tr>\n",
              "  </tbody>\n",
              "</table>\n",
              "</div>"
            ],
            "text/plain": [
              "      Nama  Usia\n",
              "0     Bejo    25\n",
              "1      Ari    30\n",
              "2     Asep    26\n",
              "3  Richard    22"
            ]
          },
          "metadata": {},
          "execution_count": 4
        }
      ]
    },
    {
      "cell_type": "markdown",
      "metadata": {
        "id": "eR0Px1T014jT"
      },
      "source": [
        "**Membuat Dataframe Menggunakan Dictionary**\n",
        "\n",
        "Cara yang paling mudah dipahami untuk membuat dataframe adalah menggunakan input dictionary. Yang mana key akan menjadi nama kolom dan valuenya akan menjadi data dalam kolom tersebut(biasanya berupa list). Strukturnya adalah sebagai berikut:\n",
        "```\n",
        "data = {'Nama Kolom 1': ['Data Baris 1', 'Data Baris 2', ...],\n",
        "        'Nama Kolom 2': ['Data Baris 1', 'Data Baris 2', ...],\n",
        "         ...\n",
        "        }\n",
        "df = pd.DataFrame (data)\n",
        "```"
      ]
    },
    {
      "cell_type": "code",
      "metadata": {
        "id": "WH3TkaVlCrUa",
        "colab": {
          "base_uri": "https://localhost:8080/",
          "height": 173
        },
        "outputId": "e40fa0ea-4e1e-4fd5-8855-4e1bd6aa16b4"
      },
      "source": [
        "mobil = {'Type Mobil': ['Honda Civic','Toyota Corolla','Ford Focus','Audi A4'],\n",
        "        'Harga(USD)': [22000,25000,27000,35000]\n",
        "        }\n",
        "\n",
        "df = pd.DataFrame(mobil)\n",
        "\n",
        "df"
      ],
      "execution_count": 5,
      "outputs": [
        {
          "output_type": "execute_result",
          "data": {
            "text/html": [
              "<div>\n",
              "<style scoped>\n",
              "    .dataframe tbody tr th:only-of-type {\n",
              "        vertical-align: middle;\n",
              "    }\n",
              "\n",
              "    .dataframe tbody tr th {\n",
              "        vertical-align: top;\n",
              "    }\n",
              "\n",
              "    .dataframe thead th {\n",
              "        text-align: right;\n",
              "    }\n",
              "</style>\n",
              "<table border=\"1\" class=\"dataframe\">\n",
              "  <thead>\n",
              "    <tr style=\"text-align: right;\">\n",
              "      <th></th>\n",
              "      <th>Type Mobil</th>\n",
              "      <th>Harga(USD)</th>\n",
              "    </tr>\n",
              "  </thead>\n",
              "  <tbody>\n",
              "    <tr>\n",
              "      <th>0</th>\n",
              "      <td>Honda Civic</td>\n",
              "      <td>22000</td>\n",
              "    </tr>\n",
              "    <tr>\n",
              "      <th>1</th>\n",
              "      <td>Toyota Corolla</td>\n",
              "      <td>25000</td>\n",
              "    </tr>\n",
              "    <tr>\n",
              "      <th>2</th>\n",
              "      <td>Ford Focus</td>\n",
              "      <td>27000</td>\n",
              "    </tr>\n",
              "    <tr>\n",
              "      <th>3</th>\n",
              "      <td>Audi A4</td>\n",
              "      <td>35000</td>\n",
              "    </tr>\n",
              "  </tbody>\n",
              "</table>\n",
              "</div>"
            ],
            "text/plain": [
              "       Type Mobil  Harga(USD)\n",
              "0     Honda Civic       22000\n",
              "1  Toyota Corolla       25000\n",
              "2      Ford Focus       27000\n",
              "3         Audi A4       35000"
            ]
          },
          "metadata": {},
          "execution_count": 5
        }
      ]
    },
    {
      "cell_type": "markdown",
      "metadata": {
        "id": "J62j_9mMsKlw"
      },
      "source": [
        "## Mengimport DataFrame"
      ]
    },
    {
      "cell_type": "markdown",
      "metadata": {
        "id": "uPONRD-PsKly"
      },
      "source": [
        "Kamu dapat mengimpor dataframe dari file berupa tabel lainnya seperti .xls, .xlsx, .csv, .txt, dan .json.  "
      ]
    },
    {
      "cell_type": "markdown",
      "metadata": {
        "id": "YRpIH3C8sKl0"
      },
      "source": [
        "### Import DataFrame dari File CSV"
      ]
    },
    {
      "cell_type": "code",
      "metadata": {
        "id": "c-52UyuYsKl0",
        "colab": {
          "base_uri": "https://localhost:8080/",
          "height": 204
        },
        "outputId": "85f891f9-734d-4a95-df55-8fb32e976ae1"
      },
      "source": [
        "df_super_store = pd.read_csv('/content/Super-Store-Dataset_convert.csv')\n",
        "df_super_store.head()"
      ],
      "execution_count": 20,
      "outputs": [
        {
          "output_type": "execute_result",
          "data": {
            "text/html": [
              "<div>\n",
              "<style scoped>\n",
              "    .dataframe tbody tr th:only-of-type {\n",
              "        vertical-align: middle;\n",
              "    }\n",
              "\n",
              "    .dataframe tbody tr th {\n",
              "        vertical-align: top;\n",
              "    }\n",
              "\n",
              "    .dataframe thead th {\n",
              "        text-align: right;\n",
              "    }\n",
              "</style>\n",
              "<table border=\"1\" class=\"dataframe\">\n",
              "  <thead>\n",
              "    <tr style=\"text-align: right;\">\n",
              "      <th></th>\n",
              "      <th>Unnamed: 0</th>\n",
              "      <th>order_id</th>\n",
              "      <th>order_date</th>\n",
              "      <th>customer_id</th>\n",
              "      <th>segment</th>\n",
              "      <th>category</th>\n",
              "      <th>sub_category</th>\n",
              "      <th>sales</th>\n",
              "      <th>quantity</th>\n",
              "      <th>profit</th>\n",
              "    </tr>\n",
              "  </thead>\n",
              "  <tbody>\n",
              "    <tr>\n",
              "      <th>0</th>\n",
              "      <td>0</td>\n",
              "      <td>CA-2016-152156</td>\n",
              "      <td>11/08/2016</td>\n",
              "      <td>CG-12520</td>\n",
              "      <td>Consumer</td>\n",
              "      <td>Furniture</td>\n",
              "      <td>Bookcases</td>\n",
              "      <td>261.96</td>\n",
              "      <td>2</td>\n",
              "      <td>419136.0</td>\n",
              "    </tr>\n",
              "    <tr>\n",
              "      <th>1</th>\n",
              "      <td>1</td>\n",
              "      <td>CA-2016-152156</td>\n",
              "      <td>11/08/2016</td>\n",
              "      <td>CG-12520</td>\n",
              "      <td>Consumer</td>\n",
              "      <td>Furniture</td>\n",
              "      <td>Chairs</td>\n",
              "      <td>731.94</td>\n",
              "      <td>3</td>\n",
              "      <td>219582.0</td>\n",
              "    </tr>\n",
              "    <tr>\n",
              "      <th>2</th>\n",
              "      <td>2</td>\n",
              "      <td>CA-2016-138688</td>\n",
              "      <td>06/12/2016</td>\n",
              "      <td>DV-13045</td>\n",
              "      <td>Corporate</td>\n",
              "      <td>Office Supplies</td>\n",
              "      <td>Labels</td>\n",
              "      <td>14.62</td>\n",
              "      <td>2</td>\n",
              "      <td>2488915.0</td>\n",
              "    </tr>\n",
              "    <tr>\n",
              "      <th>3</th>\n",
              "      <td>3</td>\n",
              "      <td>US-2015-108966</td>\n",
              "      <td>10/11/2015</td>\n",
              "      <td>SO-20335</td>\n",
              "      <td>Consumer</td>\n",
              "      <td>Furniture</td>\n",
              "      <td>Tables</td>\n",
              "      <td>9575775.00</td>\n",
              "      <td>5</td>\n",
              "      <td>-383031.0</td>\n",
              "    </tr>\n",
              "    <tr>\n",
              "      <th>4</th>\n",
              "      <td>4</td>\n",
              "      <td>US-2015-108966</td>\n",
              "      <td>10/11/2015</td>\n",
              "      <td>SO-20335</td>\n",
              "      <td>Consumer</td>\n",
              "      <td>Office Supplies</td>\n",
              "      <td>Storage</td>\n",
              "      <td>22368.00</td>\n",
              "      <td>2</td>\n",
              "      <td>1192184.0</td>\n",
              "    </tr>\n",
              "  </tbody>\n",
              "</table>\n",
              "</div>"
            ],
            "text/plain": [
              "   Unnamed: 0        order_id  order_date  ...       sales quantity     profit\n",
              "0           0  CA-2016-152156  11/08/2016  ...      261.96        2   419136.0\n",
              "1           1  CA-2016-152156  11/08/2016  ...      731.94        3   219582.0\n",
              "2           2  CA-2016-138688  06/12/2016  ...       14.62        2  2488915.0\n",
              "3           3  US-2015-108966  10/11/2015  ...  9575775.00        5  -383031.0\n",
              "4           4  US-2015-108966  10/11/2015  ...    22368.00        2  1192184.0\n",
              "\n",
              "[5 rows x 10 columns]"
            ]
          },
          "metadata": {},
          "execution_count": 20
        }
      ]
    },
    {
      "cell_type": "markdown",
      "metadata": {
        "id": "Alqy0u-GsKl1"
      },
      "source": [
        "### Import DataFrame dari File Excel"
      ]
    },
    {
      "cell_type": "code",
      "metadata": {
        "id": "AygSg8qSsKl1",
        "colab": {
          "base_uri": "https://localhost:8080/",
          "height": 204
        },
        "outputId": "cef09715-3017-462e-bba1-29a4eb4c5ec3"
      },
      "source": [
        "df_pilkada=pd.read_excel('/content/datasetpilkadadki.xlsx')\n",
        "df_pilkada.head()"
      ],
      "execution_count": 22,
      "outputs": [
        {
          "output_type": "execute_result",
          "data": {
            "text/html": [
              "<div>\n",
              "<style scoped>\n",
              "    .dataframe tbody tr th:only-of-type {\n",
              "        vertical-align: middle;\n",
              "    }\n",
              "\n",
              "    .dataframe tbody tr th {\n",
              "        vertical-align: top;\n",
              "    }\n",
              "\n",
              "    .dataframe thead th {\n",
              "        text-align: right;\n",
              "    }\n",
              "</style>\n",
              "<table border=\"1\" class=\"dataframe\">\n",
              "  <thead>\n",
              "    <tr style=\"text-align: right;\">\n",
              "      <th></th>\n",
              "      <th>Id</th>\n",
              "      <th>Sentiment</th>\n",
              "      <th>Pasangan Calon</th>\n",
              "      <th>Text Tweet</th>\n",
              "    </tr>\n",
              "  </thead>\n",
              "  <tbody>\n",
              "    <tr>\n",
              "      <th>0</th>\n",
              "      <td>1</td>\n",
              "      <td>negative</td>\n",
              "      <td>Agus-Sylvi</td>\n",
              "      <td>Banyak akun kloning seolah2 pendukung #agussil...</td>\n",
              "    </tr>\n",
              "    <tr>\n",
              "      <th>1</th>\n",
              "      <td>2</td>\n",
              "      <td>negative</td>\n",
              "      <td>Agus-Sylvi</td>\n",
              "      <td>#agussilvy bicara apa kasihan yaa...lap itu ai...</td>\n",
              "    </tr>\n",
              "    <tr>\n",
              "      <th>2</th>\n",
              "      <td>3</td>\n",
              "      <td>negative</td>\n",
              "      <td>Agus-Sylvi</td>\n",
              "      <td>Kalau aku sih gak nunggu hasil akhir QC tp lag...</td>\n",
              "    </tr>\n",
              "    <tr>\n",
              "      <th>3</th>\n",
              "      <td>4</td>\n",
              "      <td>negative</td>\n",
              "      <td>Agus-Sylvi</td>\n",
              "      <td>Kasian oh kasian dengan peluru 1milyar untuk t...</td>\n",
              "    </tr>\n",
              "    <tr>\n",
              "      <th>4</th>\n",
              "      <td>5</td>\n",
              "      <td>negative</td>\n",
              "      <td>Agus-Sylvi</td>\n",
              "      <td>Maaf ya pendukung #AgusSilvy..hayo dukung #Ani...</td>\n",
              "    </tr>\n",
              "  </tbody>\n",
              "</table>\n",
              "</div>"
            ],
            "text/plain": [
              "   Id  ...                                         Text Tweet\n",
              "0   1  ...  Banyak akun kloning seolah2 pendukung #agussil...\n",
              "1   2  ...  #agussilvy bicara apa kasihan yaa...lap itu ai...\n",
              "2   3  ...  Kalau aku sih gak nunggu hasil akhir QC tp lag...\n",
              "3   4  ...  Kasian oh kasian dengan peluru 1milyar untuk t...\n",
              "4   5  ...  Maaf ya pendukung #AgusSilvy..hayo dukung #Ani...\n",
              "\n",
              "[5 rows x 4 columns]"
            ]
          },
          "metadata": {},
          "execution_count": 22
        }
      ]
    },
    {
      "cell_type": "markdown",
      "metadata": {
        "id": "iTVBXhXTGMuq"
      },
      "source": [
        "## DataFrame & Series\n",
        "Di Pandas terdapat 2 kelas data baru yang digunakan sebagai struktur dari spreadsheet:\n",
        "\n",
        "1. **Series**\n",
        "2. **DataFrame**"
      ]
    },
    {
      "cell_type": "code",
      "metadata": {
        "id": "5CPb7D2zGFML",
        "colab": {
          "base_uri": "https://localhost:8080/"
        },
        "outputId": "fc504e5a-43ec-4fb8-ac6b-4743cd32d8d4"
      },
      "source": [
        "# Series\n",
        "number_series = pd.Series([1,2,3,4,5,5])\n",
        "print(\"Series:\")\n",
        "number_series"
      ],
      "execution_count": 8,
      "outputs": [
        {
          "output_type": "stream",
          "name": "stdout",
          "text": [
            "Series:\n"
          ]
        },
        {
          "output_type": "execute_result",
          "data": {
            "text/plain": [
              "0    1\n",
              "1    2\n",
              "2    3\n",
              "3    4\n",
              "4    5\n",
              "5    5\n",
              "dtype: int64"
            ]
          },
          "metadata": {},
          "execution_count": 8
        }
      ]
    },
    {
      "cell_type": "code",
      "metadata": {
        "id": "SAaZlBMrGzTY",
        "colab": {
          "base_uri": "https://localhost:8080/",
          "height": 173
        },
        "outputId": "98e3f8a7-55f5-4d8c-84e6-73c46a72416c"
      },
      "source": [
        "# DataFrame\n",
        "matrix = [[1,2,3],\n",
        "          ['a','b','c'],\n",
        "          [3,4,5],\n",
        "          ['d',4,6]]\n",
        "\n",
        "matrix_df = pd.DataFrame(matrix)\n",
        "\n",
        "matrix_df"
      ],
      "execution_count": 10,
      "outputs": [
        {
          "output_type": "execute_result",
          "data": {
            "text/html": [
              "<div>\n",
              "<style scoped>\n",
              "    .dataframe tbody tr th:only-of-type {\n",
              "        vertical-align: middle;\n",
              "    }\n",
              "\n",
              "    .dataframe tbody tr th {\n",
              "        vertical-align: top;\n",
              "    }\n",
              "\n",
              "    .dataframe thead th {\n",
              "        text-align: right;\n",
              "    }\n",
              "</style>\n",
              "<table border=\"1\" class=\"dataframe\">\n",
              "  <thead>\n",
              "    <tr style=\"text-align: right;\">\n",
              "      <th></th>\n",
              "      <th>0</th>\n",
              "      <th>1</th>\n",
              "      <th>2</th>\n",
              "    </tr>\n",
              "  </thead>\n",
              "  <tbody>\n",
              "    <tr>\n",
              "      <th>0</th>\n",
              "      <td>1</td>\n",
              "      <td>2</td>\n",
              "      <td>3</td>\n",
              "    </tr>\n",
              "    <tr>\n",
              "      <th>1</th>\n",
              "      <td>a</td>\n",
              "      <td>b</td>\n",
              "      <td>c</td>\n",
              "    </tr>\n",
              "    <tr>\n",
              "      <th>2</th>\n",
              "      <td>3</td>\n",
              "      <td>4</td>\n",
              "      <td>5</td>\n",
              "    </tr>\n",
              "    <tr>\n",
              "      <th>3</th>\n",
              "      <td>d</td>\n",
              "      <td>4</td>\n",
              "      <td>6</td>\n",
              "    </tr>\n",
              "  </tbody>\n",
              "</table>\n",
              "</div>"
            ],
            "text/plain": [
              "   0  1  2\n",
              "0  1  2  3\n",
              "1  a  b  c\n",
              "2  3  4  5\n",
              "3  d  4  6"
            ]
          },
          "metadata": {},
          "execution_count": 10
        }
      ]
    },
    {
      "cell_type": "markdown",
      "metadata": {
        "id": "r1X9QmjmHJRx"
      },
      "source": [
        "### Atribut DataFrame & Series\n",
        "Dataframe dan Series memiliki sangat banyak atribut yang digunakan untuk transformasi data, tetapi ada beberapa attribute yang sering dipakai. "
      ]
    },
    {
      "cell_type": "code",
      "metadata": {
        "id": "XGe9bf8cG0Bf",
        "colab": {
          "base_uri": "https://localhost:8080/",
          "height": 419
        },
        "outputId": "d280fe7d-fe77-4c3c-f2d2-5533ba967c2a"
      },
      "source": [
        "df_super_store"
      ],
      "execution_count": 23,
      "outputs": [
        {
          "output_type": "execute_result",
          "data": {
            "text/html": [
              "<div>\n",
              "<style scoped>\n",
              "    .dataframe tbody tr th:only-of-type {\n",
              "        vertical-align: middle;\n",
              "    }\n",
              "\n",
              "    .dataframe tbody tr th {\n",
              "        vertical-align: top;\n",
              "    }\n",
              "\n",
              "    .dataframe thead th {\n",
              "        text-align: right;\n",
              "    }\n",
              "</style>\n",
              "<table border=\"1\" class=\"dataframe\">\n",
              "  <thead>\n",
              "    <tr style=\"text-align: right;\">\n",
              "      <th></th>\n",
              "      <th>Unnamed: 0</th>\n",
              "      <th>order_id</th>\n",
              "      <th>order_date</th>\n",
              "      <th>customer_id</th>\n",
              "      <th>segment</th>\n",
              "      <th>category</th>\n",
              "      <th>sub_category</th>\n",
              "      <th>sales</th>\n",
              "      <th>quantity</th>\n",
              "      <th>profit</th>\n",
              "    </tr>\n",
              "  </thead>\n",
              "  <tbody>\n",
              "    <tr>\n",
              "      <th>0</th>\n",
              "      <td>0</td>\n",
              "      <td>CA-2016-152156</td>\n",
              "      <td>11/08/2016</td>\n",
              "      <td>CG-12520</td>\n",
              "      <td>Consumer</td>\n",
              "      <td>Furniture</td>\n",
              "      <td>Bookcases</td>\n",
              "      <td>261.96</td>\n",
              "      <td>2</td>\n",
              "      <td>419136.00</td>\n",
              "    </tr>\n",
              "    <tr>\n",
              "      <th>1</th>\n",
              "      <td>1</td>\n",
              "      <td>CA-2016-152156</td>\n",
              "      <td>11/08/2016</td>\n",
              "      <td>CG-12520</td>\n",
              "      <td>Consumer</td>\n",
              "      <td>Furniture</td>\n",
              "      <td>Chairs</td>\n",
              "      <td>731.94</td>\n",
              "      <td>3</td>\n",
              "      <td>219582.00</td>\n",
              "    </tr>\n",
              "    <tr>\n",
              "      <th>2</th>\n",
              "      <td>2</td>\n",
              "      <td>CA-2016-138688</td>\n",
              "      <td>06/12/2016</td>\n",
              "      <td>DV-13045</td>\n",
              "      <td>Corporate</td>\n",
              "      <td>Office Supplies</td>\n",
              "      <td>Labels</td>\n",
              "      <td>14.62</td>\n",
              "      <td>2</td>\n",
              "      <td>2488915.00</td>\n",
              "    </tr>\n",
              "    <tr>\n",
              "      <th>3</th>\n",
              "      <td>3</td>\n",
              "      <td>US-2015-108966</td>\n",
              "      <td>10/11/2015</td>\n",
              "      <td>SO-20335</td>\n",
              "      <td>Consumer</td>\n",
              "      <td>Furniture</td>\n",
              "      <td>Tables</td>\n",
              "      <td>9575775.00</td>\n",
              "      <td>5</td>\n",
              "      <td>-383031.00</td>\n",
              "    </tr>\n",
              "    <tr>\n",
              "      <th>4</th>\n",
              "      <td>4</td>\n",
              "      <td>US-2015-108966</td>\n",
              "      <td>10/11/2015</td>\n",
              "      <td>SO-20335</td>\n",
              "      <td>Consumer</td>\n",
              "      <td>Office Supplies</td>\n",
              "      <td>Storage</td>\n",
              "      <td>22368.00</td>\n",
              "      <td>2</td>\n",
              "      <td>1192184.00</td>\n",
              "    </tr>\n",
              "    <tr>\n",
              "      <th>...</th>\n",
              "      <td>...</td>\n",
              "      <td>...</td>\n",
              "      <td>...</td>\n",
              "      <td>...</td>\n",
              "      <td>...</td>\n",
              "      <td>...</td>\n",
              "      <td>...</td>\n",
              "      <td>...</td>\n",
              "      <td>...</td>\n",
              "      <td>...</td>\n",
              "    </tr>\n",
              "    <tr>\n",
              "      <th>9983</th>\n",
              "      <td>9983</td>\n",
              "      <td>CA-2014-110422</td>\n",
              "      <td>1/21/2014</td>\n",
              "      <td>TB-21400</td>\n",
              "      <td>Consumer</td>\n",
              "      <td>Furniture</td>\n",
              "      <td>Furnishings</td>\n",
              "      <td>25248.00</td>\n",
              "      <td>3</td>\n",
              "      <td>-318399.00</td>\n",
              "    </tr>\n",
              "    <tr>\n",
              "      <th>9984</th>\n",
              "      <td>9984</td>\n",
              "      <td>CA-2017-121258</td>\n",
              "      <td>2/26/2017</td>\n",
              "      <td>DB-13060</td>\n",
              "      <td>Consumer</td>\n",
              "      <td>Furniture</td>\n",
              "      <td>Furnishings</td>\n",
              "      <td>91.96</td>\n",
              "      <td>2</td>\n",
              "      <td>156332.00</td>\n",
              "    </tr>\n",
              "    <tr>\n",
              "      <th>9985</th>\n",
              "      <td>9985</td>\n",
              "      <td>CA-2017-121258</td>\n",
              "      <td>2/26/2017</td>\n",
              "      <td>DB-13060</td>\n",
              "      <td>Consumer</td>\n",
              "      <td>Technology</td>\n",
              "      <td>Phones</td>\n",
              "      <td>258576.00</td>\n",
              "      <td>2</td>\n",
              "      <td>193932.00</td>\n",
              "    </tr>\n",
              "    <tr>\n",
              "      <th>9986</th>\n",
              "      <td>9986</td>\n",
              "      <td>CA-2017-121258</td>\n",
              "      <td>2/26/2017</td>\n",
              "      <td>DB-13060</td>\n",
              "      <td>Consumer</td>\n",
              "      <td>Office Supplies</td>\n",
              "      <td>Paper</td>\n",
              "      <td>44376.00</td>\n",
              "      <td>4</td>\n",
              "      <td>13.32</td>\n",
              "    </tr>\n",
              "    <tr>\n",
              "      <th>9987</th>\n",
              "      <td>9987</td>\n",
              "      <td>CA-2017-119914</td>\n",
              "      <td>05/04/2017</td>\n",
              "      <td>CC-12220</td>\n",
              "      <td>Consumer</td>\n",
              "      <td>Office Supplies</td>\n",
              "      <td>Appliances</td>\n",
              "      <td>243.16</td>\n",
              "      <td>2</td>\n",
              "      <td>72948.00</td>\n",
              "    </tr>\n",
              "  </tbody>\n",
              "</table>\n",
              "<p>9988 rows × 10 columns</p>\n",
              "</div>"
            ],
            "text/plain": [
              "      Unnamed: 0        order_id  order_date  ...       sales quantity      profit\n",
              "0              0  CA-2016-152156  11/08/2016  ...      261.96        2   419136.00\n",
              "1              1  CA-2016-152156  11/08/2016  ...      731.94        3   219582.00\n",
              "2              2  CA-2016-138688  06/12/2016  ...       14.62        2  2488915.00\n",
              "3              3  US-2015-108966  10/11/2015  ...  9575775.00        5  -383031.00\n",
              "4              4  US-2015-108966  10/11/2015  ...    22368.00        2  1192184.00\n",
              "...          ...             ...         ...  ...         ...      ...         ...\n",
              "9983        9983  CA-2014-110422   1/21/2014  ...    25248.00        3  -318399.00\n",
              "9984        9984  CA-2017-121258   2/26/2017  ...       91.96        2   156332.00\n",
              "9985        9985  CA-2017-121258   2/26/2017  ...   258576.00        2   193932.00\n",
              "9986        9986  CA-2017-121258   2/26/2017  ...    44376.00        4       13.32\n",
              "9987        9987  CA-2017-119914  05/04/2017  ...      243.16        2    72948.00\n",
              "\n",
              "[9988 rows x 10 columns]"
            ]
          },
          "metadata": {},
          "execution_count": 23
        }
      ]
    },
    {
      "cell_type": "markdown",
      "metadata": {
        "id": "zYKoA2UL5-oT"
      },
      "source": [
        "**1. Atrribute .head()**\n",
        "\n",
        "Atrribute .head() untuk melihat 5(default dan bisa dirubah) data teratas pada dataframe."
      ]
    },
    {
      "cell_type": "code",
      "metadata": {
        "id": "99qJz9cS6M8D",
        "colab": {
          "base_uri": "https://localhost:8080/",
          "height": 204
        },
        "outputId": "7798a344-5883-43dd-84cb-e58d56280553"
      },
      "source": [
        "df_super_store.head()"
      ],
      "execution_count": 24,
      "outputs": [
        {
          "output_type": "execute_result",
          "data": {
            "text/html": [
              "<div>\n",
              "<style scoped>\n",
              "    .dataframe tbody tr th:only-of-type {\n",
              "        vertical-align: middle;\n",
              "    }\n",
              "\n",
              "    .dataframe tbody tr th {\n",
              "        vertical-align: top;\n",
              "    }\n",
              "\n",
              "    .dataframe thead th {\n",
              "        text-align: right;\n",
              "    }\n",
              "</style>\n",
              "<table border=\"1\" class=\"dataframe\">\n",
              "  <thead>\n",
              "    <tr style=\"text-align: right;\">\n",
              "      <th></th>\n",
              "      <th>Unnamed: 0</th>\n",
              "      <th>order_id</th>\n",
              "      <th>order_date</th>\n",
              "      <th>customer_id</th>\n",
              "      <th>segment</th>\n",
              "      <th>category</th>\n",
              "      <th>sub_category</th>\n",
              "      <th>sales</th>\n",
              "      <th>quantity</th>\n",
              "      <th>profit</th>\n",
              "    </tr>\n",
              "  </thead>\n",
              "  <tbody>\n",
              "    <tr>\n",
              "      <th>0</th>\n",
              "      <td>0</td>\n",
              "      <td>CA-2016-152156</td>\n",
              "      <td>11/08/2016</td>\n",
              "      <td>CG-12520</td>\n",
              "      <td>Consumer</td>\n",
              "      <td>Furniture</td>\n",
              "      <td>Bookcases</td>\n",
              "      <td>261.96</td>\n",
              "      <td>2</td>\n",
              "      <td>419136.0</td>\n",
              "    </tr>\n",
              "    <tr>\n",
              "      <th>1</th>\n",
              "      <td>1</td>\n",
              "      <td>CA-2016-152156</td>\n",
              "      <td>11/08/2016</td>\n",
              "      <td>CG-12520</td>\n",
              "      <td>Consumer</td>\n",
              "      <td>Furniture</td>\n",
              "      <td>Chairs</td>\n",
              "      <td>731.94</td>\n",
              "      <td>3</td>\n",
              "      <td>219582.0</td>\n",
              "    </tr>\n",
              "    <tr>\n",
              "      <th>2</th>\n",
              "      <td>2</td>\n",
              "      <td>CA-2016-138688</td>\n",
              "      <td>06/12/2016</td>\n",
              "      <td>DV-13045</td>\n",
              "      <td>Corporate</td>\n",
              "      <td>Office Supplies</td>\n",
              "      <td>Labels</td>\n",
              "      <td>14.62</td>\n",
              "      <td>2</td>\n",
              "      <td>2488915.0</td>\n",
              "    </tr>\n",
              "    <tr>\n",
              "      <th>3</th>\n",
              "      <td>3</td>\n",
              "      <td>US-2015-108966</td>\n",
              "      <td>10/11/2015</td>\n",
              "      <td>SO-20335</td>\n",
              "      <td>Consumer</td>\n",
              "      <td>Furniture</td>\n",
              "      <td>Tables</td>\n",
              "      <td>9575775.00</td>\n",
              "      <td>5</td>\n",
              "      <td>-383031.0</td>\n",
              "    </tr>\n",
              "    <tr>\n",
              "      <th>4</th>\n",
              "      <td>4</td>\n",
              "      <td>US-2015-108966</td>\n",
              "      <td>10/11/2015</td>\n",
              "      <td>SO-20335</td>\n",
              "      <td>Consumer</td>\n",
              "      <td>Office Supplies</td>\n",
              "      <td>Storage</td>\n",
              "      <td>22368.00</td>\n",
              "      <td>2</td>\n",
              "      <td>1192184.0</td>\n",
              "    </tr>\n",
              "  </tbody>\n",
              "</table>\n",
              "</div>"
            ],
            "text/plain": [
              "   Unnamed: 0        order_id  order_date  ...       sales quantity     profit\n",
              "0           0  CA-2016-152156  11/08/2016  ...      261.96        2   419136.0\n",
              "1           1  CA-2016-152156  11/08/2016  ...      731.94        3   219582.0\n",
              "2           2  CA-2016-138688  06/12/2016  ...       14.62        2  2488915.0\n",
              "3           3  US-2015-108966  10/11/2015  ...  9575775.00        5  -383031.0\n",
              "4           4  US-2015-108966  10/11/2015  ...    22368.00        2  1192184.0\n",
              "\n",
              "[5 rows x 10 columns]"
            ]
          },
          "metadata": {},
          "execution_count": 24
        }
      ]
    },
    {
      "cell_type": "markdown",
      "metadata": {
        "id": "G5s1fiWd6PPv"
      },
      "source": [
        "**2. Attribute .tail()**\n",
        "\n",
        "Attribute .tail() untuk melihat 5(default dan bisa dirubah) data teratas pada dataframe."
      ]
    },
    {
      "cell_type": "code",
      "metadata": {
        "id": "9zJBDanu6YKW",
        "colab": {
          "base_uri": "https://localhost:8080/",
          "height": 204
        },
        "outputId": "3ce2ee48-df4b-4481-8a47-520c7b00a9c7"
      },
      "source": [
        "df_super_store.tail()"
      ],
      "execution_count": 25,
      "outputs": [
        {
          "output_type": "execute_result",
          "data": {
            "text/html": [
              "<div>\n",
              "<style scoped>\n",
              "    .dataframe tbody tr th:only-of-type {\n",
              "        vertical-align: middle;\n",
              "    }\n",
              "\n",
              "    .dataframe tbody tr th {\n",
              "        vertical-align: top;\n",
              "    }\n",
              "\n",
              "    .dataframe thead th {\n",
              "        text-align: right;\n",
              "    }\n",
              "</style>\n",
              "<table border=\"1\" class=\"dataframe\">\n",
              "  <thead>\n",
              "    <tr style=\"text-align: right;\">\n",
              "      <th></th>\n",
              "      <th>Unnamed: 0</th>\n",
              "      <th>order_id</th>\n",
              "      <th>order_date</th>\n",
              "      <th>customer_id</th>\n",
              "      <th>segment</th>\n",
              "      <th>category</th>\n",
              "      <th>sub_category</th>\n",
              "      <th>sales</th>\n",
              "      <th>quantity</th>\n",
              "      <th>profit</th>\n",
              "    </tr>\n",
              "  </thead>\n",
              "  <tbody>\n",
              "    <tr>\n",
              "      <th>9983</th>\n",
              "      <td>9983</td>\n",
              "      <td>CA-2014-110422</td>\n",
              "      <td>1/21/2014</td>\n",
              "      <td>TB-21400</td>\n",
              "      <td>Consumer</td>\n",
              "      <td>Furniture</td>\n",
              "      <td>Furnishings</td>\n",
              "      <td>25248.00</td>\n",
              "      <td>3</td>\n",
              "      <td>-318399.00</td>\n",
              "    </tr>\n",
              "    <tr>\n",
              "      <th>9984</th>\n",
              "      <td>9984</td>\n",
              "      <td>CA-2017-121258</td>\n",
              "      <td>2/26/2017</td>\n",
              "      <td>DB-13060</td>\n",
              "      <td>Consumer</td>\n",
              "      <td>Furniture</td>\n",
              "      <td>Furnishings</td>\n",
              "      <td>91.96</td>\n",
              "      <td>2</td>\n",
              "      <td>156332.00</td>\n",
              "    </tr>\n",
              "    <tr>\n",
              "      <th>9985</th>\n",
              "      <td>9985</td>\n",
              "      <td>CA-2017-121258</td>\n",
              "      <td>2/26/2017</td>\n",
              "      <td>DB-13060</td>\n",
              "      <td>Consumer</td>\n",
              "      <td>Technology</td>\n",
              "      <td>Phones</td>\n",
              "      <td>258576.00</td>\n",
              "      <td>2</td>\n",
              "      <td>193932.00</td>\n",
              "    </tr>\n",
              "    <tr>\n",
              "      <th>9986</th>\n",
              "      <td>9986</td>\n",
              "      <td>CA-2017-121258</td>\n",
              "      <td>2/26/2017</td>\n",
              "      <td>DB-13060</td>\n",
              "      <td>Consumer</td>\n",
              "      <td>Office Supplies</td>\n",
              "      <td>Paper</td>\n",
              "      <td>44376.00</td>\n",
              "      <td>4</td>\n",
              "      <td>13.32</td>\n",
              "    </tr>\n",
              "    <tr>\n",
              "      <th>9987</th>\n",
              "      <td>9987</td>\n",
              "      <td>CA-2017-119914</td>\n",
              "      <td>05/04/2017</td>\n",
              "      <td>CC-12220</td>\n",
              "      <td>Consumer</td>\n",
              "      <td>Office Supplies</td>\n",
              "      <td>Appliances</td>\n",
              "      <td>243.16</td>\n",
              "      <td>2</td>\n",
              "      <td>72948.00</td>\n",
              "    </tr>\n",
              "  </tbody>\n",
              "</table>\n",
              "</div>"
            ],
            "text/plain": [
              "      Unnamed: 0        order_id  order_date  ...      sales quantity     profit\n",
              "9983        9983  CA-2014-110422   1/21/2014  ...   25248.00        3 -318399.00\n",
              "9984        9984  CA-2017-121258   2/26/2017  ...      91.96        2  156332.00\n",
              "9985        9985  CA-2017-121258   2/26/2017  ...  258576.00        2  193932.00\n",
              "9986        9986  CA-2017-121258   2/26/2017  ...   44376.00        4      13.32\n",
              "9987        9987  CA-2017-119914  05/04/2017  ...     243.16        2   72948.00\n",
              "\n",
              "[5 rows x 10 columns]"
            ]
          },
          "metadata": {},
          "execution_count": 25
        }
      ]
    },
    {
      "cell_type": "markdown",
      "metadata": {
        "id": "LYM9PoTOHUvP"
      },
      "source": [
        "**3. Attribute .info()**\n",
        "\n",
        "Attribute .info() digunakan untuk mengecek kolom apa yang membentuk dataframe itu, data types, berapa yang non null, dll. Attribute ini tidak dapat digunakan pada series, hanya pada data frame saja"
      ]
    },
    {
      "cell_type": "code",
      "metadata": {
        "id": "NCISRnA2HR6n",
        "colab": {
          "base_uri": "https://localhost:8080/"
        },
        "outputId": "b06d79d5-6d9e-4bb5-dbcc-e2228b01978f"
      },
      "source": [
        "df_super_store.info()"
      ],
      "execution_count": 26,
      "outputs": [
        {
          "output_type": "stream",
          "name": "stdout",
          "text": [
            "<class 'pandas.core.frame.DataFrame'>\n",
            "RangeIndex: 9988 entries, 0 to 9987\n",
            "Data columns (total 10 columns):\n",
            " #   Column        Non-Null Count  Dtype  \n",
            "---  ------        --------------  -----  \n",
            " 0   Unnamed: 0    9988 non-null   int64  \n",
            " 1   order_id      9988 non-null   object \n",
            " 2   order_date    9988 non-null   object \n",
            " 3   customer_id   9988 non-null   object \n",
            " 4   segment       9988 non-null   object \n",
            " 5   category      9988 non-null   object \n",
            " 6   sub_category  9988 non-null   object \n",
            " 7   sales         9988 non-null   float64\n",
            " 8   quantity      9988 non-null   int64  \n",
            " 9   profit        9988 non-null   float64\n",
            "dtypes: float64(2), int64(2), object(6)\n",
            "memory usage: 780.4+ KB\n"
          ]
        }
      ]
    },
    {
      "cell_type": "markdown",
      "metadata": {
        "id": "-yumR5u7Hf0f"
      },
      "source": [
        "**4. Attribute .shape**\n",
        "\n",
        "Attribute .shape digunakan untuk mengetahui berapa baris dan kolom, hasilnya dalam format tuple (baris, kolom)."
      ]
    },
    {
      "cell_type": "code",
      "metadata": {
        "id": "IAzqBohBHeFY",
        "colab": {
          "base_uri": "https://localhost:8080/"
        },
        "outputId": "74c0e04d-5f88-4fdf-99c6-61145004bca8"
      },
      "source": [
        "df_super_store.shape"
      ],
      "execution_count": 27,
      "outputs": [
        {
          "output_type": "execute_result",
          "data": {
            "text/plain": [
              "(9988, 10)"
            ]
          },
          "metadata": {},
          "execution_count": 27
        }
      ]
    },
    {
      "cell_type": "markdown",
      "metadata": {
        "id": "7lV6Jz_qHuYC"
      },
      "source": [
        "**5. Attribute .dtypes**\n",
        "\n",
        "Attribute .dtypes digunakan untuk mengetahui tipe data di tiap kolom. Tipe data object: kombinasi untuk berbagai tipe data (number & text, etc)."
      ]
    },
    {
      "cell_type": "code",
      "metadata": {
        "id": "wjpL4Q_AHrva",
        "colab": {
          "base_uri": "https://localhost:8080/"
        },
        "outputId": "a90763a9-bf79-4af4-8306-8a7db45f424c"
      },
      "source": [
        "df_super_store.dtypes"
      ],
      "execution_count": 28,
      "outputs": [
        {
          "output_type": "execute_result",
          "data": {
            "text/plain": [
              "Unnamed: 0        int64\n",
              "order_id         object\n",
              "order_date       object\n",
              "customer_id      object\n",
              "segment          object\n",
              "category         object\n",
              "sub_category     object\n",
              "sales           float64\n",
              "quantity          int64\n",
              "profit          float64\n",
              "dtype: object"
            ]
          },
          "metadata": {},
          "execution_count": 28
        }
      ]
    },
    {
      "cell_type": "markdown",
      "metadata": {
        "id": "uJKp5SMFIQ5N"
      },
      "source": [
        "**6. Attribute .astype(nama_tipe_data)**\n",
        "\n",
        "Attribute .astype(nama_tipe_data) untuk convert tipe data berdasarkan tipe data seperti: **float, int, str, numpy.float, numpy.int** ataupun **numpy.datetime**."
      ]
    },
    {
      "cell_type": "code",
      "metadata": {
        "id": "Eoj8Dr-TH-z0",
        "colab": {
          "base_uri": "https://localhost:8080/",
          "height": 204
        },
        "outputId": "6111ab0a-4212-498c-c390-de01df96f72c"
      },
      "source": [
        "df_str = df_super_store.astype(\"str\")\n",
        "df_str.head()"
      ],
      "execution_count": 29,
      "outputs": [
        {
          "output_type": "execute_result",
          "data": {
            "text/html": [
              "<div>\n",
              "<style scoped>\n",
              "    .dataframe tbody tr th:only-of-type {\n",
              "        vertical-align: middle;\n",
              "    }\n",
              "\n",
              "    .dataframe tbody tr th {\n",
              "        vertical-align: top;\n",
              "    }\n",
              "\n",
              "    .dataframe thead th {\n",
              "        text-align: right;\n",
              "    }\n",
              "</style>\n",
              "<table border=\"1\" class=\"dataframe\">\n",
              "  <thead>\n",
              "    <tr style=\"text-align: right;\">\n",
              "      <th></th>\n",
              "      <th>Unnamed: 0</th>\n",
              "      <th>order_id</th>\n",
              "      <th>order_date</th>\n",
              "      <th>customer_id</th>\n",
              "      <th>segment</th>\n",
              "      <th>category</th>\n",
              "      <th>sub_category</th>\n",
              "      <th>sales</th>\n",
              "      <th>quantity</th>\n",
              "      <th>profit</th>\n",
              "    </tr>\n",
              "  </thead>\n",
              "  <tbody>\n",
              "    <tr>\n",
              "      <th>0</th>\n",
              "      <td>0</td>\n",
              "      <td>CA-2016-152156</td>\n",
              "      <td>11/08/2016</td>\n",
              "      <td>CG-12520</td>\n",
              "      <td>Consumer</td>\n",
              "      <td>Furniture</td>\n",
              "      <td>Bookcases</td>\n",
              "      <td>261.96</td>\n",
              "      <td>2</td>\n",
              "      <td>419136.0</td>\n",
              "    </tr>\n",
              "    <tr>\n",
              "      <th>1</th>\n",
              "      <td>1</td>\n",
              "      <td>CA-2016-152156</td>\n",
              "      <td>11/08/2016</td>\n",
              "      <td>CG-12520</td>\n",
              "      <td>Consumer</td>\n",
              "      <td>Furniture</td>\n",
              "      <td>Chairs</td>\n",
              "      <td>731.94</td>\n",
              "      <td>3</td>\n",
              "      <td>219582.0</td>\n",
              "    </tr>\n",
              "    <tr>\n",
              "      <th>2</th>\n",
              "      <td>2</td>\n",
              "      <td>CA-2016-138688</td>\n",
              "      <td>06/12/2016</td>\n",
              "      <td>DV-13045</td>\n",
              "      <td>Corporate</td>\n",
              "      <td>Office Supplies</td>\n",
              "      <td>Labels</td>\n",
              "      <td>14.62</td>\n",
              "      <td>2</td>\n",
              "      <td>2488915.0</td>\n",
              "    </tr>\n",
              "    <tr>\n",
              "      <th>3</th>\n",
              "      <td>3</td>\n",
              "      <td>US-2015-108966</td>\n",
              "      <td>10/11/2015</td>\n",
              "      <td>SO-20335</td>\n",
              "      <td>Consumer</td>\n",
              "      <td>Furniture</td>\n",
              "      <td>Tables</td>\n",
              "      <td>9575775.0</td>\n",
              "      <td>5</td>\n",
              "      <td>-383031.0</td>\n",
              "    </tr>\n",
              "    <tr>\n",
              "      <th>4</th>\n",
              "      <td>4</td>\n",
              "      <td>US-2015-108966</td>\n",
              "      <td>10/11/2015</td>\n",
              "      <td>SO-20335</td>\n",
              "      <td>Consumer</td>\n",
              "      <td>Office Supplies</td>\n",
              "      <td>Storage</td>\n",
              "      <td>22368.0</td>\n",
              "      <td>2</td>\n",
              "      <td>1192184.0</td>\n",
              "    </tr>\n",
              "  </tbody>\n",
              "</table>\n",
              "</div>"
            ],
            "text/plain": [
              "  Unnamed: 0        order_id  order_date  ...      sales quantity     profit\n",
              "0          0  CA-2016-152156  11/08/2016  ...     261.96        2   419136.0\n",
              "1          1  CA-2016-152156  11/08/2016  ...     731.94        3   219582.0\n",
              "2          2  CA-2016-138688  06/12/2016  ...      14.62        2  2488915.0\n",
              "3          3  US-2015-108966  10/11/2015  ...  9575775.0        5  -383031.0\n",
              "4          4  US-2015-108966  10/11/2015  ...    22368.0        2  1192184.0\n",
              "\n",
              "[5 rows x 10 columns]"
            ]
          },
          "metadata": {},
          "execution_count": 29
        }
      ]
    },
    {
      "cell_type": "code",
      "metadata": {
        "id": "US5fIqM0E_L2"
      },
      "source": [
        "df_str.dtypes"
      ],
      "execution_count": null,
      "outputs": []
    },
    {
      "cell_type": "markdown",
      "metadata": {
        "id": "3Qe4SitEKDik"
      },
      "source": [
        "**7. Attribute .copy()**\n",
        "\n",
        "Attribute .copy() digunakan melakukan duplikat, untuk disimpan di variable yang berbeda mungkin supaya tidak loading data lagi."
      ]
    },
    {
      "cell_type": "code",
      "metadata": {
        "id": "Ek3EH--cKC_2",
        "colab": {
          "base_uri": "https://localhost:8080/",
          "height": 419
        },
        "outputId": "6d980dc2-c38b-4fb3-dede-dc130f07a770"
      },
      "source": [
        "df_SS=df_super_store.copy()\n",
        "df_SS"
      ],
      "execution_count": 30,
      "outputs": [
        {
          "output_type": "execute_result",
          "data": {
            "text/html": [
              "<div>\n",
              "<style scoped>\n",
              "    .dataframe tbody tr th:only-of-type {\n",
              "        vertical-align: middle;\n",
              "    }\n",
              "\n",
              "    .dataframe tbody tr th {\n",
              "        vertical-align: top;\n",
              "    }\n",
              "\n",
              "    .dataframe thead th {\n",
              "        text-align: right;\n",
              "    }\n",
              "</style>\n",
              "<table border=\"1\" class=\"dataframe\">\n",
              "  <thead>\n",
              "    <tr style=\"text-align: right;\">\n",
              "      <th></th>\n",
              "      <th>Unnamed: 0</th>\n",
              "      <th>order_id</th>\n",
              "      <th>order_date</th>\n",
              "      <th>customer_id</th>\n",
              "      <th>segment</th>\n",
              "      <th>category</th>\n",
              "      <th>sub_category</th>\n",
              "      <th>sales</th>\n",
              "      <th>quantity</th>\n",
              "      <th>profit</th>\n",
              "    </tr>\n",
              "  </thead>\n",
              "  <tbody>\n",
              "    <tr>\n",
              "      <th>0</th>\n",
              "      <td>0</td>\n",
              "      <td>CA-2016-152156</td>\n",
              "      <td>11/08/2016</td>\n",
              "      <td>CG-12520</td>\n",
              "      <td>Consumer</td>\n",
              "      <td>Furniture</td>\n",
              "      <td>Bookcases</td>\n",
              "      <td>261.96</td>\n",
              "      <td>2</td>\n",
              "      <td>419136.00</td>\n",
              "    </tr>\n",
              "    <tr>\n",
              "      <th>1</th>\n",
              "      <td>1</td>\n",
              "      <td>CA-2016-152156</td>\n",
              "      <td>11/08/2016</td>\n",
              "      <td>CG-12520</td>\n",
              "      <td>Consumer</td>\n",
              "      <td>Furniture</td>\n",
              "      <td>Chairs</td>\n",
              "      <td>731.94</td>\n",
              "      <td>3</td>\n",
              "      <td>219582.00</td>\n",
              "    </tr>\n",
              "    <tr>\n",
              "      <th>2</th>\n",
              "      <td>2</td>\n",
              "      <td>CA-2016-138688</td>\n",
              "      <td>06/12/2016</td>\n",
              "      <td>DV-13045</td>\n",
              "      <td>Corporate</td>\n",
              "      <td>Office Supplies</td>\n",
              "      <td>Labels</td>\n",
              "      <td>14.62</td>\n",
              "      <td>2</td>\n",
              "      <td>2488915.00</td>\n",
              "    </tr>\n",
              "    <tr>\n",
              "      <th>3</th>\n",
              "      <td>3</td>\n",
              "      <td>US-2015-108966</td>\n",
              "      <td>10/11/2015</td>\n",
              "      <td>SO-20335</td>\n",
              "      <td>Consumer</td>\n",
              "      <td>Furniture</td>\n",
              "      <td>Tables</td>\n",
              "      <td>9575775.00</td>\n",
              "      <td>5</td>\n",
              "      <td>-383031.00</td>\n",
              "    </tr>\n",
              "    <tr>\n",
              "      <th>4</th>\n",
              "      <td>4</td>\n",
              "      <td>US-2015-108966</td>\n",
              "      <td>10/11/2015</td>\n",
              "      <td>SO-20335</td>\n",
              "      <td>Consumer</td>\n",
              "      <td>Office Supplies</td>\n",
              "      <td>Storage</td>\n",
              "      <td>22368.00</td>\n",
              "      <td>2</td>\n",
              "      <td>1192184.00</td>\n",
              "    </tr>\n",
              "    <tr>\n",
              "      <th>...</th>\n",
              "      <td>...</td>\n",
              "      <td>...</td>\n",
              "      <td>...</td>\n",
              "      <td>...</td>\n",
              "      <td>...</td>\n",
              "      <td>...</td>\n",
              "      <td>...</td>\n",
              "      <td>...</td>\n",
              "      <td>...</td>\n",
              "      <td>...</td>\n",
              "    </tr>\n",
              "    <tr>\n",
              "      <th>9983</th>\n",
              "      <td>9983</td>\n",
              "      <td>CA-2014-110422</td>\n",
              "      <td>1/21/2014</td>\n",
              "      <td>TB-21400</td>\n",
              "      <td>Consumer</td>\n",
              "      <td>Furniture</td>\n",
              "      <td>Furnishings</td>\n",
              "      <td>25248.00</td>\n",
              "      <td>3</td>\n",
              "      <td>-318399.00</td>\n",
              "    </tr>\n",
              "    <tr>\n",
              "      <th>9984</th>\n",
              "      <td>9984</td>\n",
              "      <td>CA-2017-121258</td>\n",
              "      <td>2/26/2017</td>\n",
              "      <td>DB-13060</td>\n",
              "      <td>Consumer</td>\n",
              "      <td>Furniture</td>\n",
              "      <td>Furnishings</td>\n",
              "      <td>91.96</td>\n",
              "      <td>2</td>\n",
              "      <td>156332.00</td>\n",
              "    </tr>\n",
              "    <tr>\n",
              "      <th>9985</th>\n",
              "      <td>9985</td>\n",
              "      <td>CA-2017-121258</td>\n",
              "      <td>2/26/2017</td>\n",
              "      <td>DB-13060</td>\n",
              "      <td>Consumer</td>\n",
              "      <td>Technology</td>\n",
              "      <td>Phones</td>\n",
              "      <td>258576.00</td>\n",
              "      <td>2</td>\n",
              "      <td>193932.00</td>\n",
              "    </tr>\n",
              "    <tr>\n",
              "      <th>9986</th>\n",
              "      <td>9986</td>\n",
              "      <td>CA-2017-121258</td>\n",
              "      <td>2/26/2017</td>\n",
              "      <td>DB-13060</td>\n",
              "      <td>Consumer</td>\n",
              "      <td>Office Supplies</td>\n",
              "      <td>Paper</td>\n",
              "      <td>44376.00</td>\n",
              "      <td>4</td>\n",
              "      <td>13.32</td>\n",
              "    </tr>\n",
              "    <tr>\n",
              "      <th>9987</th>\n",
              "      <td>9987</td>\n",
              "      <td>CA-2017-119914</td>\n",
              "      <td>05/04/2017</td>\n",
              "      <td>CC-12220</td>\n",
              "      <td>Consumer</td>\n",
              "      <td>Office Supplies</td>\n",
              "      <td>Appliances</td>\n",
              "      <td>243.16</td>\n",
              "      <td>2</td>\n",
              "      <td>72948.00</td>\n",
              "    </tr>\n",
              "  </tbody>\n",
              "</table>\n",
              "<p>9988 rows × 10 columns</p>\n",
              "</div>"
            ],
            "text/plain": [
              "      Unnamed: 0        order_id  order_date  ...       sales quantity      profit\n",
              "0              0  CA-2016-152156  11/08/2016  ...      261.96        2   419136.00\n",
              "1              1  CA-2016-152156  11/08/2016  ...      731.94        3   219582.00\n",
              "2              2  CA-2016-138688  06/12/2016  ...       14.62        2  2488915.00\n",
              "3              3  US-2015-108966  10/11/2015  ...  9575775.00        5  -383031.00\n",
              "4              4  US-2015-108966  10/11/2015  ...    22368.00        2  1192184.00\n",
              "...          ...             ...         ...  ...         ...      ...         ...\n",
              "9983        9983  CA-2014-110422   1/21/2014  ...    25248.00        3  -318399.00\n",
              "9984        9984  CA-2017-121258   2/26/2017  ...       91.96        2   156332.00\n",
              "9985        9985  CA-2017-121258   2/26/2017  ...   258576.00        2   193932.00\n",
              "9986        9986  CA-2017-121258   2/26/2017  ...    44376.00        4       13.32\n",
              "9987        9987  CA-2017-119914  05/04/2017  ...      243.16        2    72948.00\n",
              "\n",
              "[9988 rows x 10 columns]"
            ]
          },
          "metadata": {},
          "execution_count": 30
        }
      ]
    },
    {
      "cell_type": "markdown",
      "metadata": {
        "id": "_M5_EQM5KYQt"
      },
      "source": [
        "**8. Attribute .to_list()**\n",
        "\n",
        "Attribute .to_list() digunakan untuk mengubah series menjadi list dan tidak dapat digunakan untuk dataframe."
      ]
    },
    {
      "cell_type": "code",
      "metadata": {
        "id": "hdh9A-37KWMV",
        "colab": {
          "base_uri": "https://localhost:8080/"
        },
        "outputId": "05e8fc70-26f0-448c-b827-04c2e0c55fc3"
      },
      "source": [
        "print(number_series.to_list())"
      ],
      "execution_count": 31,
      "outputs": [
        {
          "output_type": "stream",
          "name": "stdout",
          "text": [
            "[1, 2, 3, 4, 5, 5]\n"
          ]
        }
      ]
    },
    {
      "cell_type": "markdown",
      "metadata": {
        "id": "URlKb9VlKmxS"
      },
      "source": [
        "**9. Attribute .unique()**\n",
        "\n",
        "Attribute .unique() digunakan menghasilkan nilai unik dari suatu kolom, hasilnya dalam bentuk numpy array. Attribute ini hanya digunakan pada series saja."
      ]
    },
    {
      "cell_type": "code",
      "metadata": {
        "id": "XnBxfPXpKl5S",
        "colab": {
          "base_uri": "https://localhost:8080/"
        },
        "outputId": "2a14a399-ef8b-4656-9049-667a5ee16ebc"
      },
      "source": [
        "print(number_series.unique())"
      ],
      "execution_count": 32,
      "outputs": [
        {
          "output_type": "stream",
          "name": "stdout",
          "text": [
            "[1 2 3 4 5]\n"
          ]
        }
      ]
    },
    {
      "cell_type": "markdown",
      "metadata": {
        "id": "TBKYasjWLG11"
      },
      "source": [
        "**10. Attribute .index**\n",
        "\n",
        "Attribute .index digunakan untuk mencari index/key dari Series atau Dataframe."
      ]
    },
    {
      "cell_type": "code",
      "metadata": {
        "id": "jwg4kGyFLGHv",
        "colab": {
          "base_uri": "https://localhost:8080/"
        },
        "outputId": "16f203fb-e0fe-4e2d-aed2-80d7bc10f8ae"
      },
      "source": [
        "df_super_store.index"
      ],
      "execution_count": 33,
      "outputs": [
        {
          "output_type": "execute_result",
          "data": {
            "text/plain": [
              "RangeIndex(start=0, stop=9988, step=1)"
            ]
          },
          "metadata": {},
          "execution_count": 33
        }
      ]
    },
    {
      "cell_type": "markdown",
      "metadata": {
        "id": "NNGbvQ7SLXgT"
      },
      "source": [
        "**11. Attribute .columns**\n",
        "\n",
        "Attribute .columns digunakan untuk mengetahui apa saja kolom yang tersedia di dataframe tersebut (hanya digunakan untuk dataframe saja). "
      ]
    },
    {
      "cell_type": "code",
      "metadata": {
        "id": "bAAdMKmsLSnV",
        "colab": {
          "base_uri": "https://localhost:8080/"
        },
        "outputId": "c0ebf102-5c12-4f33-8c90-94d4cd52e1b6"
      },
      "source": [
        "df_super_store.columns"
      ],
      "execution_count": 34,
      "outputs": [
        {
          "output_type": "execute_result",
          "data": {
            "text/plain": [
              "Index(['Unnamed: 0', 'order_id', 'order_date', 'customer_id', 'segment',\n",
              "       'category', 'sub_category', 'sales', 'quantity', 'profit'],\n",
              "      dtype='object')"
            ]
          },
          "metadata": {},
          "execution_count": 34
        }
      ]
    },
    {
      "cell_type": "markdown",
      "metadata": {
        "id": "l_k0oQFc7EuX"
      },
      "source": [
        "**12. Attribute .counts()**\n",
        "\n",
        "Attribute .count() untuk menghitung jumlah data pada masing-masing kolom."
      ]
    },
    {
      "cell_type": "code",
      "metadata": {
        "id": "_Kd--N8A7PQQ",
        "colab": {
          "base_uri": "https://localhost:8080/"
        },
        "outputId": "41e2660d-8bf8-4f50-b443-26c396277244"
      },
      "source": [
        "df_super_store.count()"
      ],
      "execution_count": 35,
      "outputs": [
        {
          "output_type": "execute_result",
          "data": {
            "text/plain": [
              "Unnamed: 0      9988\n",
              "order_id        9988\n",
              "order_date      9988\n",
              "customer_id     9988\n",
              "segment         9988\n",
              "category        9988\n",
              "sub_category    9988\n",
              "sales           9988\n",
              "quantity        9988\n",
              "profit          9988\n",
              "dtype: int64"
            ]
          },
          "metadata": {},
          "execution_count": 35
        }
      ]
    },
    {
      "cell_type": "markdown",
      "metadata": {
        "id": "ILOT0Iv_57cF"
      },
      "source": [
        "**13. Attribute .value_counts**\n",
        "\n",
        "Attribute .value_counts digunakan untuk mengetahui jumlah data kategori unik pada setiap kolom"
      ]
    },
    {
      "cell_type": "code",
      "metadata": {
        "id": "gKJigoiQGZus",
        "colab": {
          "base_uri": "https://localhost:8080/",
          "height": 204
        },
        "outputId": "2156ea2b-a5e6-45d6-fdf1-a43a85124301"
      },
      "source": [
        "df_pilkada.head()"
      ],
      "execution_count": 36,
      "outputs": [
        {
          "output_type": "execute_result",
          "data": {
            "text/html": [
              "<div>\n",
              "<style scoped>\n",
              "    .dataframe tbody tr th:only-of-type {\n",
              "        vertical-align: middle;\n",
              "    }\n",
              "\n",
              "    .dataframe tbody tr th {\n",
              "        vertical-align: top;\n",
              "    }\n",
              "\n",
              "    .dataframe thead th {\n",
              "        text-align: right;\n",
              "    }\n",
              "</style>\n",
              "<table border=\"1\" class=\"dataframe\">\n",
              "  <thead>\n",
              "    <tr style=\"text-align: right;\">\n",
              "      <th></th>\n",
              "      <th>Id</th>\n",
              "      <th>Sentiment</th>\n",
              "      <th>Pasangan Calon</th>\n",
              "      <th>Text Tweet</th>\n",
              "    </tr>\n",
              "  </thead>\n",
              "  <tbody>\n",
              "    <tr>\n",
              "      <th>0</th>\n",
              "      <td>1</td>\n",
              "      <td>negative</td>\n",
              "      <td>Agus-Sylvi</td>\n",
              "      <td>Banyak akun kloning seolah2 pendukung #agussil...</td>\n",
              "    </tr>\n",
              "    <tr>\n",
              "      <th>1</th>\n",
              "      <td>2</td>\n",
              "      <td>negative</td>\n",
              "      <td>Agus-Sylvi</td>\n",
              "      <td>#agussilvy bicara apa kasihan yaa...lap itu ai...</td>\n",
              "    </tr>\n",
              "    <tr>\n",
              "      <th>2</th>\n",
              "      <td>3</td>\n",
              "      <td>negative</td>\n",
              "      <td>Agus-Sylvi</td>\n",
              "      <td>Kalau aku sih gak nunggu hasil akhir QC tp lag...</td>\n",
              "    </tr>\n",
              "    <tr>\n",
              "      <th>3</th>\n",
              "      <td>4</td>\n",
              "      <td>negative</td>\n",
              "      <td>Agus-Sylvi</td>\n",
              "      <td>Kasian oh kasian dengan peluru 1milyar untuk t...</td>\n",
              "    </tr>\n",
              "    <tr>\n",
              "      <th>4</th>\n",
              "      <td>5</td>\n",
              "      <td>negative</td>\n",
              "      <td>Agus-Sylvi</td>\n",
              "      <td>Maaf ya pendukung #AgusSilvy..hayo dukung #Ani...</td>\n",
              "    </tr>\n",
              "  </tbody>\n",
              "</table>\n",
              "</div>"
            ],
            "text/plain": [
              "   Id  ...                                         Text Tweet\n",
              "0   1  ...  Banyak akun kloning seolah2 pendukung #agussil...\n",
              "1   2  ...  #agussilvy bicara apa kasihan yaa...lap itu ai...\n",
              "2   3  ...  Kalau aku sih gak nunggu hasil akhir QC tp lag...\n",
              "3   4  ...  Kasian oh kasian dengan peluru 1milyar untuk t...\n",
              "4   5  ...  Maaf ya pendukung #AgusSilvy..hayo dukung #Ani...\n",
              "\n",
              "[5 rows x 4 columns]"
            ]
          },
          "metadata": {},
          "execution_count": 36
        }
      ]
    },
    {
      "cell_type": "code",
      "metadata": {
        "id": "lTB8kbAfIl6A",
        "colab": {
          "base_uri": "https://localhost:8080/"
        },
        "outputId": "9e4c4fae-a90d-4e49-f49f-afa25360a057"
      },
      "source": [
        "df_pilkada.Sentiment.value_counts()"
      ],
      "execution_count": 37,
      "outputs": [
        {
          "output_type": "execute_result",
          "data": {
            "text/plain": [
              "positive    450\n",
              "negative    450\n",
              "Name: Sentiment, dtype: int64"
            ]
          },
          "metadata": {},
          "execution_count": 37
        }
      ]
    },
    {
      "cell_type": "markdown",
      "metadata": {
        "id": "JbIDQjlO8bd8"
      },
      "source": [
        "**14. Attribute .describe()**\n",
        "\n",
        "Attribute .describe() digunakan untuk menampilkan ringkasan statistik data numerik pada sebuah dataframe"
      ]
    },
    {
      "cell_type": "code",
      "metadata": {
        "id": "Lp5qMQ4jnBDC",
        "colab": {
          "base_uri": "https://localhost:8080/",
          "height": 297
        },
        "outputId": "d4e38a5c-cd9f-48b2-b8fc-40808dd78002"
      },
      "source": [
        "df_super_store.describe()"
      ],
      "execution_count": 38,
      "outputs": [
        {
          "output_type": "execute_result",
          "data": {
            "text/html": [
              "<div>\n",
              "<style scoped>\n",
              "    .dataframe tbody tr th:only-of-type {\n",
              "        vertical-align: middle;\n",
              "    }\n",
              "\n",
              "    .dataframe tbody tr th {\n",
              "        vertical-align: top;\n",
              "    }\n",
              "\n",
              "    .dataframe thead th {\n",
              "        text-align: right;\n",
              "    }\n",
              "</style>\n",
              "<table border=\"1\" class=\"dataframe\">\n",
              "  <thead>\n",
              "    <tr style=\"text-align: right;\">\n",
              "      <th></th>\n",
              "      <th>Unnamed: 0</th>\n",
              "      <th>sales</th>\n",
              "      <th>quantity</th>\n",
              "      <th>profit</th>\n",
              "    </tr>\n",
              "  </thead>\n",
              "  <tbody>\n",
              "    <tr>\n",
              "      <th>count</th>\n",
              "      <td>9988.000000</td>\n",
              "      <td>9.988000e+03</td>\n",
              "      <td>9988.000000</td>\n",
              "      <td>9.988000e+03</td>\n",
              "    </tr>\n",
              "    <tr>\n",
              "      <th>mean</th>\n",
              "      <td>4993.500000</td>\n",
              "      <td>1.013168e+05</td>\n",
              "      <td>3.789147</td>\n",
              "      <td>4.442494e+05</td>\n",
              "    </tr>\n",
              "    <tr>\n",
              "      <th>std</th>\n",
              "      <td>2883.431578</td>\n",
              "      <td>5.049215e+05</td>\n",
              "      <td>2.225586</td>\n",
              "      <td>1.582453e+06</td>\n",
              "    </tr>\n",
              "    <tr>\n",
              "      <th>min</th>\n",
              "      <td>0.000000</td>\n",
              "      <td>-3.286850e+05</td>\n",
              "      <td>1.000000</td>\n",
              "      <td>-3.839990e+07</td>\n",
              "    </tr>\n",
              "    <tr>\n",
              "      <th>25%</th>\n",
              "      <td>2496.750000</td>\n",
              "      <td>5.184000e+01</td>\n",
              "      <td>2.000000</td>\n",
              "      <td>8.640000e+00</td>\n",
              "    </tr>\n",
              "    <tr>\n",
              "      <th>50%</th>\n",
              "      <td>4993.500000</td>\n",
              "      <td>5.776100e+02</td>\n",
              "      <td>3.000000</td>\n",
              "      <td>7.177200e+04</td>\n",
              "    </tr>\n",
              "    <tr>\n",
              "      <th>75%</th>\n",
              "      <td>7490.250000</td>\n",
              "      <td>4.426200e+04</td>\n",
              "      <td>5.000000</td>\n",
              "      <td>6.241920e+05</td>\n",
              "    </tr>\n",
              "    <tr>\n",
              "      <th>max</th>\n",
              "      <td>9987.000000</td>\n",
              "      <td>2.396266e+07</td>\n",
              "      <td>14.000000</td>\n",
              "      <td>4.630476e+07</td>\n",
              "    </tr>\n",
              "  </tbody>\n",
              "</table>\n",
              "</div>"
            ],
            "text/plain": [
              "        Unnamed: 0         sales     quantity        profit\n",
              "count  9988.000000  9.988000e+03  9988.000000  9.988000e+03\n",
              "mean   4993.500000  1.013168e+05     3.789147  4.442494e+05\n",
              "std    2883.431578  5.049215e+05     2.225586  1.582453e+06\n",
              "min       0.000000 -3.286850e+05     1.000000 -3.839990e+07\n",
              "25%    2496.750000  5.184000e+01     2.000000  8.640000e+00\n",
              "50%    4993.500000  5.776100e+02     3.000000  7.177200e+04\n",
              "75%    7490.250000  4.426200e+04     5.000000  6.241920e+05\n",
              "max    9987.000000  2.396266e+07    14.000000  4.630476e+07"
            ]
          },
          "metadata": {},
          "execution_count": 38
        }
      ]
    }
  ]
}